{
 "cells": [
  {
   "cell_type": "code",
   "execution_count": 1,
   "metadata": {},
   "outputs": [],
   "source": [
    "faq_text = \"\"\"Question 1: What is the first step before building a machine learning model?\n",
    "Answer 1: Understand the problem, define the objective, and identify the right metrics for evaluation.\n",
    "\n",
    "Question 2: How important is data cleaning in ML?\n",
    "Answer 2: Extremely important. Clean data improves model performance and reduces the chance of misleading results.\n",
    "\n",
    "Question 3: Should I normalize or standardize my data?\n",
    "Answer 3: Yes, especially for models sensitive to feature scales like SVMs, KNN, and neural networks.\n",
    "\n",
    "Question 4: When should I use feature engineering?\n",
    "Answer 4: Always consider it. Well-crafted features often yield better results than complex models.\n",
    "\n",
    "Question 5: How to handle missing values?\n",
    "Answer 5: Use imputation techniques like mean/median imputation, or model-based imputation depending on the context.\n",
    "\n",
    "Question 6: Should I balance my dataset for classification tasks?\n",
    "Answer 6: Yes, especially if the classes are imbalanced. Techniques include resampling, SMOTE, and class-weighting.\n",
    "\n",
    "Question 7: How do I select features for my model?\n",
    "Answer 7: Use domain knowledge, correlation analysis, or techniques like Recursive Feature Elimination or SHAP values.\n",
    "\n",
    "Question 8: Is it good to use all features available?\n",
    "Answer 8: Not always. Irrelevant or redundant features can reduce performance and increase overfitting.\n",
    "\n",
    "Question 9: How do I avoid overfitting?\n",
    "Answer 9: Use techniques like cross-validation, regularization, pruning (for trees), and dropout (for neural nets).\n",
    "\n",
    "Question 10: Why is cross-validation important?\n",
    "Answer 10: It provides a more reliable estimate of model performance by reducing bias from a single train-test split.\n",
    "\n",
    "Question 11: What’s a good train-test split ratio?\n",
    "Answer 11: Common ratios are 80/20 or 70/30, but use cross-validation for more robust evaluation.\n",
    "\n",
    "Question 12: Should I tune hyperparameters?\n",
    "Answer 12: Yes. Use grid search, random search, or Bayesian optimization to improve model performance.\n",
    "\n",
    "Question 13: What’s the difference between training and validation sets?\n",
    "Answer 13: Training set trains the model, validation set tunes hyperparameters, and test set evaluates final performance.\n",
    "\n",
    "Question 14: How do I know if my model is underfitting?\n",
    "Answer 14: It performs poorly on both training and test sets, indicating it hasn’t learned patterns well.\n",
    "\n",
    "Question 15: What are signs of overfitting?\n",
    "Answer 15: High accuracy on training data but poor generalization to test or validation data.\n",
    "\n",
    "Question 16: Is ensemble modeling useful?\n",
    "Answer 16: Yes. Ensembles like Random Forests or Gradient Boosting often outperform individual models.\n",
    "\n",
    "Question 17: When should I use deep learning?\n",
    "Answer 17: Use it when you have large datasets, complex patterns, or tasks like image and text processing.\n",
    "\n",
    "Question 18: What is data leakage and how to avoid it?\n",
    "Answer 18: Data leakage is using future or target-related information during training. Avoid by carefully splitting and preprocessing.\n",
    "\n",
    "Question 19: How do I measure model performance?\n",
    "Answer 19: Choose appropriate metrics: accuracy, precision, recall, F1, ROC-AUC for classification; RMSE, MAE for regression.\n",
    "\n",
    "Question 20: Why is model interpretability important?\n",
    "Answer 20: It builds trust, helps debug, and ensures compliance—especially important in high-stakes domains like healthcare.\n",
    "\"\"\""
   ]
  },
  {
   "cell_type": "code",
   "execution_count": 2,
   "metadata": {},
   "outputs": [
    {
     "data": {
      "text/plain": [
       "['Question 1: What is the first step before building a machine learning model? Answer 1: Understand the problem, define the objective, and identify the right metrics for evaluation.',\n",
       " 'Question 2: How important is data cleaning in ML? Answer 2: Extremely important. Clean data improves model performance and reduces the chance of misleading results.',\n",
       " 'Question 3: Should I normalize or standardize my data? Answer 3: Yes, especially for models sensitive to feature scales like SVMs, KNN, and neural networks.',\n",
       " 'Question 4: When should I use feature engineering? Answer 4: Always consider it. Well-crafted features often yield better results than complex models.']"
      ]
     },
     "execution_count": 2,
     "metadata": {},
     "output_type": "execute_result"
    }
   ],
   "source": [
    "new_faq_text = [i.replace(\"\\n\", \" \") for i in faq_text.split(\"\\n\\n\")]\n",
    "new_faq_text[:4]"
   ]
  },
  {
   "cell_type": "code",
   "execution_count": 3,
   "metadata": {},
   "outputs": [],
   "source": [
    "from llama_index.embeddings.huggingface import HuggingFaceEmbedding\n",
    "from tqdm import tqdm\n",
    "\n",
    "def batch_iterate(lst, batch_size):\n",
    "    for i in range(0, len(lst), batch_size):\n",
    "        yield lst[i : i + batch_size]\n",
    "\n",
    "class EmbedData:\n",
    "\n",
    "    def __init__(self, \n",
    "                 embed_model_name=\"nomic-ai/nomic-embed-text-v1.5\",\n",
    "                 batch_size=32):\n",
    "        \n",
    "        self.embed_model_name = embed_model_name\n",
    "        self.embed_model = self._load_embed_model()\n",
    "        self.batch_size = batch_size\n",
    "        self.embeddings = []\n",
    "\n",
    "    def _load_embed_model(self):\n",
    "        embed_model = HuggingFaceEmbedding(model_name=self.embed_model_name,\n",
    "                                           trust_remote_code=True,\n",
    "                                           cache_folder='./hf_cache')\n",
    "        return embed_model\n",
    "    \n",
    "    def generate_embedding(self, context):\n",
    "        return self.embed_model.get_text_embedding_batch(context)\n",
    "    \n",
    "    def embed(self, contexts):\n",
    "        self.contexts = contexts\n",
    "        \n",
    "        for batch_context in tqdm(batch_iterate(contexts, self.batch_size),\n",
    "                                  total=len(contexts)//self.batch_size,\n",
    "                                  desc=\"Embedding data in batches\"):\n",
    "                                  \n",
    "            batch_embeddings = self.generate_embedding(batch_context)\n",
    "            \n",
    "            self.embeddings.extend(batch_embeddings)"
   ]
  },
  {
   "cell_type": "code",
   "execution_count": 4,
   "metadata": {},
   "outputs": [
    {
     "name": "stderr",
     "output_type": "stream",
     "text": [
      "Xet Storage is enabled for this repo, but the 'hf_xet' package is not installed. Falling back to regular HTTP download. For better performance, install the package with: `pip install huggingface_hub[hf_xet]` or `pip install hf_xet`\n"
     ]
    },
    {
     "data": {
      "application/vnd.jupyter.widget-view+json": {
       "model_id": "02ab03b1325e4b09b1a91cb091fab34f",
       "version_major": 2,
       "version_minor": 0
      },
      "text/plain": [
       "model.safetensors:   0%|          | 0.00/547M [00:00<?, ?B/s]"
      ]
     },
     "metadata": {},
     "output_type": "display_data"
    },
    {
     "name": "stderr",
     "output_type": "stream",
     "text": [
      "c:\\Users\\USER\\anaconda3\\envs\\py310\\lib\\site-packages\\huggingface_hub\\file_download.py:143: UserWarning: `huggingface_hub` cache-system uses symlinks by default to efficiently store duplicated files but your machine does not support them in C:\\Users\\USER\\.cache\\huggingface\\hub\\models--nomic-ai--nomic-embed-text-v1.5. Caching files will still work but in a degraded version that might require more space on your disk. This warning can be disabled by setting the `HF_HUB_DISABLE_SYMLINKS_WARNING` environment variable. For more details, see https://huggingface.co/docs/huggingface_hub/how-to-cache#limitations.\n",
      "To support symlinks on Windows, you either need to activate Developer Mode or to run Python as an administrator. In order to activate developer mode, see this article: https://docs.microsoft.com/en-us/windows/apps/get-started/enable-your-device-for-development\n",
      "  warnings.warn(message)\n",
      "<All keys matched successfully>\n"
     ]
    },
    {
     "data": {
      "application/vnd.jupyter.widget-view+json": {
       "model_id": "08d30c0cab804392a657e1333a5ab3bd",
       "version_major": 2,
       "version_minor": 0
      },
      "text/plain": [
       "tokenizer_config.json:   0%|          | 0.00/1.19k [00:00<?, ?B/s]"
      ]
     },
     "metadata": {},
     "output_type": "display_data"
    },
    {
     "name": "stderr",
     "output_type": "stream",
     "text": [
      "c:\\Users\\USER\\anaconda3\\envs\\py310\\lib\\site-packages\\huggingface_hub\\file_download.py:143: UserWarning: `huggingface_hub` cache-system uses symlinks by default to efficiently store duplicated files but your machine does not support them in C:\\workspace\\mcp_rag_test\\hf_cache\\models--nomic-ai--nomic-embed-text-v1.5. Caching files will still work but in a degraded version that might require more space on your disk. This warning can be disabled by setting the `HF_HUB_DISABLE_SYMLINKS_WARNING` environment variable. For more details, see https://huggingface.co/docs/huggingface_hub/how-to-cache#limitations.\n",
      "To support symlinks on Windows, you either need to activate Developer Mode or to run Python as an administrator. In order to activate developer mode, see this article: https://docs.microsoft.com/en-us/windows/apps/get-started/enable-your-device-for-development\n",
      "  warnings.warn(message)\n"
     ]
    },
    {
     "data": {
      "application/vnd.jupyter.widget-view+json": {
       "model_id": "af304f112622443693e1194627079399",
       "version_major": 2,
       "version_minor": 0
      },
      "text/plain": [
       "vocab.txt:   0%|          | 0.00/232k [00:00<?, ?B/s]"
      ]
     },
     "metadata": {},
     "output_type": "display_data"
    },
    {
     "data": {
      "application/vnd.jupyter.widget-view+json": {
       "model_id": "641d703687614b3383b8ed2a34c30f98",
       "version_major": 2,
       "version_minor": 0
      },
      "text/plain": [
       "tokenizer.json:   0%|          | 0.00/711k [00:00<?, ?B/s]"
      ]
     },
     "metadata": {},
     "output_type": "display_data"
    },
    {
     "data": {
      "application/vnd.jupyter.widget-view+json": {
       "model_id": "8d904fef54694a9dbed0d43669a97169",
       "version_major": 2,
       "version_minor": 0
      },
      "text/plain": [
       "special_tokens_map.json:   0%|          | 0.00/695 [00:00<?, ?B/s]"
      ]
     },
     "metadata": {},
     "output_type": "display_data"
    },
    {
     "data": {
      "application/vnd.jupyter.widget-view+json": {
       "model_id": "c512ae771e4543f48b5144c1dfa7e852",
       "version_major": 2,
       "version_minor": 0
      },
      "text/plain": [
       "config.json:   0%|          | 0.00/286 [00:00<?, ?B/s]"
      ]
     },
     "metadata": {},
     "output_type": "display_data"
    },
    {
     "name": "stderr",
     "output_type": "stream",
     "text": [
      "Embedding data in batches: 1it [00:03,  3.12s/it]\n"
     ]
    }
   ],
   "source": [
    "batch_size = 32\n",
    "\n",
    "embeddata = EmbedData(batch_size=batch_size)\n",
    "\n",
    "embeddata.embed(new_faq_text)"
   ]
  },
  {
   "cell_type": "code",
   "execution_count": null,
   "metadata": {},
   "outputs": [],
   "source": []
  },
  {
   "cell_type": "code",
   "execution_count": 5,
   "metadata": {},
   "outputs": [],
   "source": [
    "from qdrant_client import models\n",
    "from qdrant_client import QdrantClient\n",
    "\n",
    "class QdrantVDB:\n",
    "\n",
    "    def __init__(self, collection_name, vector_dim=768, batch_size=512):\n",
    "        self.collection_name = collection_name\n",
    "        self.batch_size = batch_size\n",
    "        self.vector_dim = vector_dim\n",
    "\n",
    "    def define_client(self):\n",
    "        self.client = QdrantClient(url=\"http://localhost:6333\",\n",
    "                                   prefer_grpc=True)\n",
    "        \n",
    "    def create_collection(self):\n",
    "        \n",
    "        if not self.client.collection_exists(collection_name=self.collection_name):\n",
    "\n",
    "            self.client.create_collection(collection_name=self.collection_name,\n",
    "                                          \n",
    "                                          vectors_config=models.VectorParams(\n",
    "                                                              size=self.vector_dim,\n",
    "                                                              distance=models.Distance.DOT,\n",
    "                                                              on_disk=True),\n",
    "                                          \n",
    "                                          optimizers_config=models.OptimizersConfigDiff(\n",
    "                                                                            default_segment_number=5,\n",
    "                                                                            indexing_threshold=0)\n",
    "                                         )\n",
    "            \n",
    "    def ingest_data(self, embeddata):\n",
    "        \n",
    "        for batch_context, batch_embeddings in tqdm(zip(batch_iterate(embeddata.contexts, self.batch_size), \n",
    "                                                        batch_iterate(embeddata.embeddings, self.batch_size)), \n",
    "                                                    total=len(embeddata.contexts)//self.batch_size, \n",
    "                                                    desc=\"Ingesting in batches\"):\n",
    "        \n",
    "            self.client.upload_collection(collection_name=self.collection_name,\n",
    "                                        vectors=batch_embeddings,\n",
    "                                        payload=[{\"context\": context} for context in batch_context])\n",
    "\n",
    "        self.client.update_collection(collection_name=self.collection_name,\n",
    "                                    optimizer_config=models.OptimizersConfigDiff(indexing_threshold=20000)\n",
    "                                    )"
   ]
  },
  {
   "cell_type": "code",
   "execution_count": 6,
   "metadata": {},
   "outputs": [
    {
     "name": "stderr",
     "output_type": "stream",
     "text": [
      "Ingesting in batches: 1it [00:00,  7.53it/s]\n"
     ]
    }
   ],
   "source": [
    "database = QdrantVDB(\"ml_faq_collection\")\n",
    "database.define_client()\n",
    "database.create_collection()\n",
    "database.ingest_data(embeddata)"
   ]
  },
  {
   "cell_type": "code",
   "execution_count": 7,
   "metadata": {},
   "outputs": [],
   "source": [
    "class Retriever:\n",
    "\n",
    "    def __init__(self, vector_db, embeddata):\n",
    "        \n",
    "        self.vector_db = vector_db\n",
    "        self.embeddata = embeddata\n",
    "\n",
    "    def search(self, query):\n",
    "        query_embedding = self.embeddata.embed_model.get_query_embedding(query)\n",
    "\n",
    "        # select the top 3 results\n",
    "        result = self.vector_db.client.search(\n",
    "            collection_name=self.vector_db.collection_name,\n",
    "            \n",
    "            query_vector=query_embedding,\n",
    "            \n",
    "            search_params=models.SearchParams(\n",
    "                quantization=models.QuantizationSearchParams(\n",
    "                    ignore=True,\n",
    "                    rescore=True,\n",
    "                    oversampling=2.0,\n",
    "                )\n",
    "            ),\n",
    "            limit=3,\n",
    "            timeout=1000,\n",
    "        )\n",
    "\n",
    "        context = [dict(data) for data in result]\n",
    "        combined_prompt = []\n",
    "\n",
    "        for entry in context[:3]:\n",
    "            context = entry[\"payload\"][\"context\"]\n",
    "\n",
    "            combined_prompt.append(context)\n",
    "\n",
    "        final_output = \"\\n\\n---\\n\\n\".join(combined_prompt)\n",
    "        return final_output"
   ]
  },
  {
   "cell_type": "code",
   "execution_count": 10,
   "metadata": {},
   "outputs": [
    {
     "name": "stderr",
     "output_type": "stream",
     "text": [
      "C:\\Users\\USER\\AppData\\Local\\Temp\\ipykernel_8740\\2836330369.py:12: DeprecationWarning: `search` method is deprecated and will be removed in the future. Use `query_points` instead.\n",
      "  result = self.vector_db.client.search(\n"
     ]
    }
   ],
   "source": [
    "result = Retriever(database, embeddata).search(\"What is classification?\")"
   ]
  },
  {
   "cell_type": "code",
   "execution_count": 11,
   "metadata": {},
   "outputs": [
    {
     "data": {
      "text/plain": [
       "'Question 6: Should I balance my dataset for classification tasks? Answer 6: Yes, especially if the classes are imbalanced. Techniques include resampling, SMOTE, and class-weighting.\\n\\n---\\n\\nQuestion 3: Should I normalize or standardize my data? Answer 3: Yes, especially for models sensitive to feature scales like SVMs, KNN, and neural networks.\\n\\n---\\n\\nQuestion 1: What is the first step before building a machine learning model? Answer 1: Understand the problem, define the objective, and identify the right metrics for evaluation.'"
      ]
     },
     "execution_count": 11,
     "metadata": {},
     "output_type": "execute_result"
    }
   ],
   "source": [
    "result"
   ]
  },
  {
   "cell_type": "code",
   "execution_count": 15,
   "metadata": {},
   "outputs": [
    {
     "name": "stderr",
     "output_type": "stream",
     "text": [
      "c:\\Users\\USER\\anaconda3\\envs\\py310\\lib\\site-packages\\urllib3\\connectionpool.py:1097: InsecureRequestWarning: Unverified HTTPS request is being made to host 'brd.superproxy.io'. Adding certificate verification is strongly advised. See: https://urllib3.readthedocs.io/en/latest/advanced-usage.html#tls-warnings\n",
      "  warnings.warn(\n"
     ]
    }
   ],
   "source": [
    "import os\n",
    "import ssl\n",
    "import requests\n",
    "from dotenv import load_dotenv\n",
    "\n",
    "# Load environment variables\n",
    "load_dotenv()\n",
    "\n",
    "# Configure SSL\n",
    "ssl._create_default_https_context = ssl._create_unverified_context\n",
    "\n",
    "# Bright Data configuration\n",
    "host = 'brd.superproxy.io'\n",
    "port = 33335\n",
    "username = os.getenv(\"BRIGHDATA_USERNAME\")\n",
    "password = os.getenv(\"BRIGHDATA_PASSWORD\")\n",
    "\n",
    "proxy_url = f'http://{username}:{password}@{host}:{port}'\n",
    "proxies = {\n",
    "    'http': proxy_url,\n",
    "    'https': proxy_url\n",
    "}\n",
    "\n",
    "# Make a search query\n",
    "query = \"What is classification in machine learning?\"\n",
    "formatted_query = \"+\".join(query.split(\" \"))\n",
    "url = f\"https://www.google.com/search?q={formatted_query}&brd_json=1&num=50\"\n",
    "response = requests.get(url, proxies=proxies, verify=False)\n",
    "\n",
    "# Get search results\n",
    "results = response.json()['organic']"
   ]
  },
  {
   "cell_type": "code",
   "execution_count": 16,
   "metadata": {},
   "outputs": [
    {
     "data": {
      "text/plain": [
       "[{'link': 'https://www.ibm.com/think/topics/classification-machine-learning',\n",
       "  'display_link': 'https://www.ibm.com › think › topics › classification-m...',\n",
       "  'title': 'What is Classification in Machine Learning?',\n",
       "  'description': 'Classification is the process of training a deep learning model to discover the function that categorizes data points. Regression models ...',\n",
       "  'extensions': [{'inline': True,\n",
       "    'type': 'text',\n",
       "    'text': 'Oct 15, 2024',\n",
       "    'rank': 1},\n",
       "   {'type': 'site_link',\n",
       "    'text': 'What is classification in...',\n",
       "    'link': 'https://www.ibm.com/think/topics/classification-machine-learning#What+is+classification+in+machine+learning%3F',\n",
       "    'rank': 2},\n",
       "   {'type': 'site_link',\n",
       "    'text': 'What are classification models?',\n",
       "    'link': 'https://www.ibm.com/think/topics/classification-machine-learning#What+are+classification+models%3F',\n",
       "    'rank': 3}],\n",
       "  'rank': 1,\n",
       "  'global_rank': 5},\n",
       " {'link': 'https://www.datacamp.com/blog/classification-machine-learning',\n",
       "  'display_link': 'https://www.datacamp.com › Blog › Machine Learning',\n",
       "  'title': 'Classification in Machine Learning: A Guide for Beginners',\n",
       "  'description': 'Classification is a supervised machine learning method where the model tries to predict the correct label of a given input data. In classification, the model is ...',\n",
       "  'extensions': [{'type': 'site_link',\n",
       "    'text': 'What is Classification in...',\n",
       "    'link': 'https://www.datacamp.com/blog/classification-machine-learning#what-is-classification-in-machine-learning?-class',\n",
       "    'rank': 1},\n",
       "   {'type': 'site_link',\n",
       "    'text': 'Binary Classification',\n",
       "    'link': 'https://www.datacamp.com/blog/classification-machine-learning#binary-classification-inabi',\n",
       "    'rank': 2},\n",
       "   {'type': 'site_link',\n",
       "    'text': 'Application of Some Machine...',\n",
       "    'link': 'https://www.datacamp.com/blog/classification-machine-learning#application-of-some-machine-learning-classification-algorithms-thiss',\n",
       "    'rank': 3}],\n",
       "  'rank': 2,\n",
       "  'global_rank': 6},\n",
       " {'link': 'https://www.geeksforgeeks.org/getting-started-with-classification/',\n",
       "  'display_link': 'https://www.geeksforgeeks.org › getting-started-with-cl...',\n",
       "  'title': 'Getting started with Classification',\n",
       "  'description': 'Classification teaches a machine to sort things into categories. It learns by looking at examples with labels (like emails marked “spam” or “not spam”).',\n",
       "  'extensions': [{'inline': True,\n",
       "    'type': 'text',\n",
       "    'text': 'Jan 20, 2025',\n",
       "    'rank': 1}],\n",
       "  'rank': 3,\n",
       "  'global_rank': 7},\n",
       " {'link': 'https://developers.google.com/machine-learning/crash-course/classification',\n",
       "  'display_link': 'https://developers.google.com › crash-course › classific...',\n",
       "  'title': 'Classification | Machine Learning',\n",
       "  'description': \"Classification is the task of predicting which of a set of classes (categories) an example belongs to. In this module, you'll learn how to ...\",\n",
       "  'extensions': [{'inline': True,\n",
       "    'type': 'text',\n",
       "    'text': 'Oct 16, 2024',\n",
       "    'rank': 1}],\n",
       "  'rank': 4,\n",
       "  'global_rank': 8},\n",
       " {'link': 'https://www.simplilearn.com/tutorials/machine-learning-tutorial/classification-in-machine-learning',\n",
       "  'display_link': 'https://www.simplilearn.com › tutorials › classification-i...',\n",
       "  'title': 'What is Classification in Machine Learning?',\n",
       "  'description': 'Classification is a type of pattern recognition in which classification algorithms are performed on training data to discover the same pattern in new data sets.',\n",
       "  'extensions': [{'inline': True,\n",
       "    'type': 'text',\n",
       "    'text': 'May 23, 2023',\n",
       "    'rank': 1}],\n",
       "  'rank': 5,\n",
       "  'global_rank': 9},\n",
       " {'link': 'https://www.grammarly.com/blog/ai/what-is-classification/',\n",
       "  'display_link': 'https://www.grammarly.com › blog › what-is-classification',\n",
       "  'title': 'Classification in Machine Learning: What It Is and How ...',\n",
       "  'description': 'Classification is a supervised learning technique in machine learning that predicts the category (also called the class) of new data points ...',\n",
       "  'extensions': [{'inline': True,\n",
       "    'type': 'text',\n",
       "    'text': 'Nov 20, 2024',\n",
       "    'rank': 1}],\n",
       "  'rank': 6,\n",
       "  'global_rank': 10},\n",
       " {'link': 'https://www.machinelearningmastery.com/types-of-classification-in-machine-learning/',\n",
       "  'display_link': 'https://www.machinelearningmastery.com › Blog',\n",
       "  'title': '4 Types of Classification Tasks in Machine Learning',\n",
       "  'description': 'Classification is a task that requires the use of machine learning algorithms that learn how to assign a class label to examples from the problem domain.',\n",
       "  'extensions': [{'inline': True,\n",
       "    'type': 'text',\n",
       "    'text': 'Aug 19, 2020',\n",
       "    'rank': 1}],\n",
       "  'rank': 7,\n",
       "  'global_rank': 11},\n",
       " {'link': 'https://www.youtube.com/watch?v=FElqKt08mZc',\n",
       "  'display_link': '1.2K+ views · 8 months ago',\n",
       "  'title': 'What is Classification in Machine Learning ? (A 2-minute ...',\n",
       "  'description': 'Classification can be defined as a machine learning technique to identify the category of new observations based upon the training data.',\n",
       "  'image': 'https://encrypted-tbn0.gstatic.com/images?q=tbn:ANd9GcQrsMj80GjgCFDyJlkBs3Oxgv3CKVLrvPrKZ_9JLYjqN6JF&s',\n",
       "  'image_url': 'https://encrypted-tbn0.gstatic.com/images?q=tbn:ANd9GcQrsMj80GjgCFDyJlkBs3Oxgv3CKVLrvPrKZ_9JLYjqN6JF&s',\n",
       "  'duration': '2:48',\n",
       "  'duration_sec': 168,\n",
       "  'rank': 8,\n",
       "  'global_rank': 12},\n",
       " {'link': 'https://www.artiba.org/blog/a-beginners-guide-to-classification-in-machine-learning',\n",
       "  'display_link': 'https://www.artiba.org › blog › a-beginners-guide-to-cl...',\n",
       "  'title': \"A Beginner's Guide to Classification in Machine Learning\",\n",
       "  'description': 'Classification is the task of predicting a discrete class or category for a given input. It works by developing a model that learns from input data.',\n",
       "  'extensions': [{'inline': True,\n",
       "    'type': 'text',\n",
       "    'text': 'Feb 21, 2025',\n",
       "    'rank': 1}],\n",
       "  'rank': 9,\n",
       "  'global_rank': 13},\n",
       " {'link': 'https://medium.com/@mehar.chand.cloud/a-comprehensive-guide-to-classification-in-machine-learning-00c6896da00d',\n",
       "  'display_link': '9 months ago',\n",
       "  'title': 'A Comprehensive Guide to Classification in Machine ...',\n",
       "  'description': 'Classification is one of the most important techniques in machine learning. It is used to categorize data into predefined classes or groups.',\n",
       "  'rank': 10,\n",
       "  'global_rank': 14},\n",
       " {'link': 'https://emeritus.org/blog/artificial-intelligence-and-machine-learning-classification-in-machine-learning/',\n",
       "  'display_link': 'https://emeritus.org › Blog › AI and ML',\n",
       "  'title': 'What is Classification in Machine Learning and Why is it ...',\n",
       "  'description': 'Classification is a supervised machine learning process of categorizing a given set of input data into classes based on one or more variables.',\n",
       "  'extensions': [{'inline': True,\n",
       "    'type': 'text',\n",
       "    'text': 'Nov 23, 2022',\n",
       "    'rank': 1}],\n",
       "  'rank': 11,\n",
       "  'global_rank': 15},\n",
       " {'link': 'https://www.researchgate.net/publication/379633049_An_overview_of_machine_learning_classification_techniques',\n",
       "  'display_link': 'https://www.researchgate.net › publication › 37963304...',\n",
       "  'title': 'An overview of machine learning classification techniques',\n",
       "  'description': 'Classification is a technique used to predict similar information based on the values of a categorical target or class variable. It is a valuable method for ...',\n",
       "  'rank': 12,\n",
       "  'global_rank': 16},\n",
       " {'link': 'https://builtin.com/data-science/supervised-machine-learning-classification',\n",
       "  'display_link': 'https://builtin.com › data-science › supervised-machine-l...',\n",
       "  'title': '5 Classification Algorithms for Machine Learning',\n",
       "  'description': 'Classification is a technique for determining which class the dependent belongs to based on one or more independent variables.',\n",
       "  'rank': 13,\n",
       "  'global_rank': 17},\n",
       " {'link': 'https://www.alltius.ai/glossary/what-is-classification',\n",
       "  'display_link': 'https://www.alltius.ai › glossary › what-is-classification',\n",
       "  'title': 'The Role of Classification in Modern Machine Learning',\n",
       "  'description': \"Classification sorts data into groups. It's a key part of machine learning and data study. Classification in Machine Learning: A Guide for ...\",\n",
       "  'extensions': [{'inline': True,\n",
       "    'type': 'text',\n",
       "    'text': 'Apr 7, 2025',\n",
       "    'rank': 1}],\n",
       "  'rank': 14,\n",
       "  'global_rank': 18},\n",
       " {'link': 'https://www.ibm.com/think/topics/classification-models',\n",
       "  'display_link': 'https://www.ibm.com › think › topics › classification-m...',\n",
       "  'title': 'What are classification models?',\n",
       "  'description': 'Classification models are a type of machine learning model that divides data points into predefined groups called classes.',\n",
       "  'rank': 15,\n",
       "  'global_rank': 19},\n",
       " {'link': 'https://learn.microsoft.com/en-us/training/modules/understand-classification-machine-learning/',\n",
       "  'display_link': 'https://learn.microsoft.com › Learn › Training › Browse',\n",
       "  'title': 'Create and Understand Classification Models in Machine ...',\n",
       "  'description': 'Classification means assigning items into categories, or can also be thought of automated decision making. Here we introduce classification models through ...',\n",
       "  'rank': 16,\n",
       "  'global_rank': 20},\n",
       " {'link': 'https://www.geeksforgeeks.org/ml-classification-vs-regression/',\n",
       "  'display_link': 'https://www.geeksforgeeks.org › ml-classification-vs-re...',\n",
       "  'title': 'Classification vs Regression in Machine Learning',\n",
       "  'description': 'Classification deals with discrete outcomes (eg, yes/no, categories), while regression handles continuous values (eg, price, temperature).',\n",
       "  'extensions': [{'inline': True,\n",
       "    'type': 'text',\n",
       "    'text': 'Apr 4, 2025',\n",
       "    'rank': 1}],\n",
       "  'rank': 17,\n",
       "  'global_rank': 21},\n",
       " {'link': 'https://www.quora.com/What-is-classification-in-machine-learning#!n=12',\n",
       "  'display_link': '7 answers · 7 years ago',\n",
       "  'title': 'What is classification in machine learning?',\n",
       "  'description': 'Classification is a type of supervised machine learning and is a process of categorizing data into classes. Binary classification is about ...',\n",
       "  'rank': 18,\n",
       "  'global_rank': 22},\n",
       " {'link': 'https://www.analyticsvidhya.com/blog/2021/09/a-complete-guide-to-understand-classification-in-machine-learning/',\n",
       "  'display_link': 'https://www.analyticsvidhya.com › blog › 2021/09 › a-...',\n",
       "  'title': 'Classification in Machine Learning',\n",
       "  'description': 'Classification is a task of ML which assigns a label value to a specific class .Here, we will see types of classification in machine ...',\n",
       "  'extensions': [{'inline': True,\n",
       "    'type': 'text',\n",
       "    'text': 'Apr 7, 2025',\n",
       "    'rank': 1}],\n",
       "  'rank': 19,\n",
       "  'global_rank': 23},\n",
       " {'link': 'https://en.wikipedia.org/wiki/Statistical_classification',\n",
       "  'display_link': 'https://en.wikipedia.org › wiki › Statistical_classification',\n",
       "  'title': 'Statistical classification',\n",
       "  'description': 'An algorithm that implements classification, especially in a concrete implementation, is known as a classifier. The term \"classifier\" sometimes also refers to ...',\n",
       "  'rank': 20,\n",
       "  'global_rank': 24},\n",
       " {'link': 'https://builtin.com/machine-learning/classification-machine-learning',\n",
       "  'display_link': 'https://builtin.com › machine-learning › classification-ma...',\n",
       "  'title': 'An Introduction to Classification in Machine Learning',\n",
       "  'description': 'Classification is the process of predicting the class of given data points. Classes are sometimes called targets, labels or categories.',\n",
       "  'rank': 21,\n",
       "  'global_rank': 25},\n",
       " {'link': 'https://www.mathworks.com/campaigns/offers/next/choosing-the-best-machine-learning-classification-model-and-avoiding-overfitting.html',\n",
       "  'display_link': 'https://www.mathworks.com › campaigns › offers › next',\n",
       "  'title': 'Choosing the Best Machine Learning Classification Model ...',\n",
       "  'description': 'Categorizing data points based on their distance to other points in a training data set can be a simple yet effective way of classifying data. k-nearest ...',\n",
       "  'rank': 22,\n",
       "  'global_rank': 26},\n",
       " {'link': 'https://www.youtube.com/watch?v=QM0sYbEQSkM&vl=en',\n",
       "  'display_link': '34.9K+ views · 9 months ago',\n",
       "  'title': 'Machine Learning Crash Course: Classification',\n",
       "  'description': 'Classification is a machine learning technique for predicting a class (or category)—for example, a classification model for spam detection ...',\n",
       "  'image': 'https://encrypted-tbn0.gstatic.com/images?q=tbn:ANd9GcSADZOWrvUPou9eqM_Dgsz9XVH5GhHlyFiMvg046Qr3swRq&s',\n",
       "  'image_url': 'https://encrypted-tbn0.gstatic.com/images?q=tbn:ANd9GcSADZOWrvUPou9eqM_Dgsz9XVH5GhHlyFiMvg046Qr3swRq&s',\n",
       "  'duration': '2:19',\n",
       "  'duration_sec': 139,\n",
       "  'rank': 23,\n",
       "  'global_rank': 27},\n",
       " {'link': 'https://vitalflux.com/classification-problems-real-world-examples/',\n",
       "  'display_link': 'https://vitalflux.com › Data Science',\n",
       "  'title': 'Classification Problems in Machine Learning: Examples',\n",
       "  'description': 'Machine learning (ML) classification problems are those which require the given data set to be classified in two or more categories. For example ...',\n",
       "  'extensions': [{'inline': True,\n",
       "    'type': 'text',\n",
       "    'text': 'Nov 28, 2023',\n",
       "    'rank': 1}],\n",
       "  'rank': 24,\n",
       "  'global_rank': 28},\n",
       " {'link': 'https://www.appliedaicourse.com/blog/classification-algorithms/',\n",
       "  'display_link': 'https://www.appliedaicourse.com › blog › classification...',\n",
       "  'title': 'Top 9 Machine Learning Classification Algorithms',\n",
       "  'description': 'Classification is one of the core tasks in machine learning, enabling models to predict discrete outcomes based on input data.',\n",
       "  'extensions': [{'inline': True,\n",
       "    'type': 'text',\n",
       "    'text': 'Oct 25, 2024',\n",
       "    'rank': 1}],\n",
       "  'rank': 25,\n",
       "  'global_rank': 29},\n",
       " {'link': 'https://www.theiotacademy.co/blog/classification-in-machine-learning/',\n",
       "  'display_link': 'https://www.theiotacademy.co › blog › classification-in-...',\n",
       "  'title': 'Different Types of Classification in Machine Learning',\n",
       "  'description': 'Classification in machine learning is a type of pattern recognition. Classification algorithms help you to find the same pattern in fresh data sets using ...',\n",
       "  'extensions': [{'inline': True,\n",
       "    'type': 'text',\n",
       "    'text': 'Sep 5, 2023',\n",
       "    'rank': 1}],\n",
       "  'rank': 26,\n",
       "  'global_rank': 30},\n",
       " {'link': 'https://www.quora.com/What-is-classification-in-machine-learning',\n",
       "  'display_link': '6 answers · 7 years ago',\n",
       "  'title': 'What is classification in machine learning?',\n",
       "  'description': 'Classification is the process of predicting the class of given data points. Classes are sometimes called as targets/ labels or categories.',\n",
       "  'rank': 27,\n",
       "  'global_rank': 31},\n",
       " {'link': 'https://www.coursera.org/learn/ml-classification',\n",
       "  'display_link': 'https://www.coursera.org › ... › Machine Learning',\n",
       "  'title': 'Machine Learning: Classification',\n",
       "  'description': 'In this course, you will create classifiers that provide state-of-the-art performance on a variety of tasks. You will become familiar with the most successful ...',\n",
       "  'rank': 28,\n",
       "  'global_rank': 32},\n",
       " {'link': 'https://web.stanford.edu/class/cs102/lectureslides/ClassificationSlides.pdf',\n",
       "  'display_link': 'https://web.stanford.edu › ClassificationSlides',\n",
       "  'title': 'Classification - Machine Learning',\n",
       "  'description': 'To classify a new item i: find K closest items to i in the labeled data, assign most frequent label. ▫ No hidden complicated math!',\n",
       "  'rank': 29,\n",
       "  'global_rank': 33},\n",
       " {'link': 'https://www.youtube.com/watch?v=sbMqM3n2Frw',\n",
       "  'display_link': '1K+ views · 2 years ago',\n",
       "  'title': 'What is Classification',\n",
       "  'description': 'What is Classification Have you heard the term Classification in ML? Classification is a process of categorizing data into distinct classes ...',\n",
       "  'image': 'https://encrypted-tbn0.gstatic.com/images?q=tbn:ANd9GcQsHrh4OynN4XptqKZJOFWhvUb1J7xJe9sMHmJdlJ7mYWQr&s',\n",
       "  'image_url': 'https://encrypted-tbn0.gstatic.com/images?q=tbn:ANd9GcQsHrh4OynN4XptqKZJOFWhvUb1J7xJe9sMHmJdlJ7mYWQr&s',\n",
       "  'duration': '2:48',\n",
       "  'duration_sec': 168,\n",
       "  'rank': 30,\n",
       "  'global_rank': 34},\n",
       " {'link': 'https://metana.io/blog/deep-learning-models-for-classification-a-comprehensive-guide/',\n",
       "  'display_link': 'https://metana.io › AI & Machine Learning',\n",
       "  'title': 'Deep Learning Models for Classification',\n",
       "  'description': 'Classification is a fundamental task in many fields, from computer vision and speech recognition to medical diagnosis and fraud detection.',\n",
       "  'extensions': [{'inline': True,\n",
       "    'type': 'text',\n",
       "    'text': 'Apr 15, 2025',\n",
       "    'rank': 1}],\n",
       "  'rank': 31,\n",
       "  'global_rank': 35},\n",
       " {'link': 'https://zilliz.com/glossary/classification',\n",
       "  'display_link': 'https://zilliz.com › glossary › classification',\n",
       "  'title': 'What is Classification in Machine Learning?',\n",
       "  'description': 'Classification in machine learning is the process of predicting a category or label for a given input based on its features.',\n",
       "  'rank': 32,\n",
       "  'global_rank': 36},\n",
       " {'link': 'https://www.mathworks.com/help/stats/classification.html',\n",
       "  'display_link': 'https://www.mathworks.com › help › stats › classification',\n",
       "  'title': 'Classification - MATLAB &amp; Simulink',\n",
       "  'description': 'Classification is a type of supervised machine learning in which an algorithm “learns” to classify new observations from examples of labeled data.',\n",
       "  'rank': 33,\n",
       "  'global_rank': 37},\n",
       " {'link': 'https://scikit-learn.org/stable/supervised_learning.html',\n",
       "  'display_link': 'https://scikit-learn.org › stable › supervised_learning',\n",
       "  'title': '1. Supervised learning',\n",
       "  'description': '1. Supervised learning# · 1.4.1. Classification · 1.4.2. Regression · 1.4.3. Density estimation, novelty detection · 1.4.4. Complexity · 1.4.5. Tips on Practical Use ...',\n",
       "  'rank': 34,\n",
       "  'global_rank': 38},\n",
       " {'link': 'https://www.tutorialspoint.com/machine_learning/machine_learning_classification_algorithms.htm',\n",
       "  'display_link': 'https://www.tutorialspoint.com › Machine_learning',\n",
       "  'title': 'Machine Learning Classification Algorithms',\n",
       "  'description': 'Classification in machine learning is a supervised learning technique where an algorithm is trained with labeled data to predict the category of new data.',\n",
       "  'rank': 35,\n",
       "  'global_rank': 39},\n",
       " {'link': 'https://medium.com/analytics-vidhya/classification-in-machine-learning-ed30753d9461',\n",
       "  'display_link': '70+ likes · 4 years ago',\n",
       "  'title': 'Classification In Machine Learning - Analytics Vidhya',\n",
       "  'description': 'In machine learning, classification refers to a predictive modeling problem where a class label is predicted for a given example of input data.',\n",
       "  'rank': 36,\n",
       "  'global_rank': 40},\n",
       " {'link': 'https://pubmed.ncbi.nlm.nih.gov/36181463/',\n",
       "  'display_link': 'https://pubmed.ncbi.nlm.nih.gov › ...',\n",
       "  'title': 'An introduction to machine learning for classification and ...',\n",
       "  'description': 'This article provides a brief introduction into the use of ML approaches for classification and prediction tasks in family medicine.',\n",
       "  'extensions': [{'inline': True,\n",
       "    'type': 'text',\n",
       "    'text': 'by JE Black',\n",
       "    'rank': 1},\n",
       "   {'inline': True, 'type': 'text', 'text': '2023', 'rank': 2},\n",
       "   {'inline': True, 'type': 'text', 'text': 'Cited by 57', 'rank': 3}],\n",
       "  'rank': 37,\n",
       "  'global_rank': 41},\n",
       " {'link': 'https://www.analytixlabs.co.in/blog/classification-in-machine-learning/',\n",
       "  'display_link': 'https://www.analytixlabs.co.in › blog › classification-in-...',\n",
       "  'title': 'Classification in machine learning: Types and methodologies',\n",
       "  'description': 'Classification in machine learning is used to categorize data into distinct classes. It is one of the most common and important tasks in machine ...',\n",
       "  'extensions': [{'inline': True,\n",
       "    'type': 'text',\n",
       "    'text': 'Jan 25, 2023',\n",
       "    'rank': 1}],\n",
       "  'rank': 38,\n",
       "  'global_rank': 42},\n",
       " {'link': 'https://www.datarobot.com/blog/multiclass-classification-in-machine-learning/',\n",
       "  'display_link': 'https://www.datarobot.com › Blogs',\n",
       "  'title': 'Multiclass classification in machine learning',\n",
       "  'description': 'Multiclass classification is a machine learning classification task that consists of more than two classes, or outputs.',\n",
       "  'rank': 39,\n",
       "  'global_rank': 43},\n",
       " {'link': 'https://lamarr-institute.org/blog/ml-classification/',\n",
       "  'display_link': 'https://lamarr-institute.org › Blogs',\n",
       "  'title': 'Classification in Machine Learning » Lamarr-Blog',\n",
       "  'description': 'Classification can be described as the assignment or grouping of observations into predefined categories. These categories are referred to as classes and ...',\n",
       "  'rank': 40,\n",
       "  'global_rank': 44},\n",
       " {'link': 'https://www.stratascratch.com/blog/overview-of-machine-learning-algorithms-classification/',\n",
       "  'display_link': 'https://www.stratascratch.com › blog › overview-of-ma...',\n",
       "  'title': 'Overview of Machine Learning Algorithms: Classification',\n",
       "  'description': \"In this article, we've learned about various classification algorithms in machine learning and the common metrics to assess their performance.\",\n",
       "  'extensions': [{'inline': True,\n",
       "    'type': 'text',\n",
       "    'text': 'Jun 13, 2023',\n",
       "    'rank': 1}],\n",
       "  'rank': 41,\n",
       "  'global_rank': 45},\n",
       " {'link': 'https://engo645-assignments.readthedocs.io/en/latest/tutorials/L4/classification.html',\n",
       "  'display_link': 'https://engo645-assignments.readthedocs.io › tutorials',\n",
       "  'title': 'Classification in Machine Learning: An Introduction',\n",
       "  'description': 'What is Classification in Machine Learning?#. Here a classifier in machine learning is an algorithm that automatically arranges or categorizes ...',\n",
       "  'extensions': [{'inline': True,\n",
       "    'type': 'text',\n",
       "    'text': 'Apr 2, 2024',\n",
       "    'rank': 1}],\n",
       "  'rank': 42,\n",
       "  'global_rank': 46},\n",
       " {'link': 'https://www.sciencedirect.com/topics/computer-science/classification-machine-learning',\n",
       "  'display_link': 'https://www.sciencedirect.com › topics › computer-science',\n",
       "  'title': 'Classification (Machine Learning) - an overview',\n",
       "  'description': 'A machine learning classifier is used on a dataset (an input) and categorises them based on the model. The learning algorithm can classify the instances to fix ...',\n",
       "  'rank': 43,\n",
       "  'global_rank': 47},\n",
       " {'link': 'https://developers.google.com/machine-learning/practica/image-classification',\n",
       "  'display_link': 'https://developers.google.com › practica › image-classif...',\n",
       "  'title': 'ML Practicum: Image Classification | Machine Learning',\n",
       "  'description': 'Image classification is a supervised learning problem: define a set of target classes (objects to identify in images), and train a model to ...',\n",
       "  'extensions': [{'inline': True,\n",
       "    'type': 'text',\n",
       "    'text': 'Jul 18, 2022',\n",
       "    'rank': 1}],\n",
       "  'rank': 44,\n",
       "  'global_rank': 48},\n",
       " {'link': 'https://www.edureka.co/blog/classification-in-machine-learning/',\n",
       "  'display_link': 'https://www.edureka.co › blog › classification-in-machin...',\n",
       "  'title': 'Classification In Machine Learning | Classification Algorithms',\n",
       "  'description': 'What is Classification In Machine Learning. Classification is a process of categorizing a given set of data into classes, It can be performed on ...',\n",
       "  'extensions': [{'inline': True,\n",
       "    'type': 'text',\n",
       "    'text': 'Jun 3, 2024',\n",
       "    'rank': 1}],\n",
       "  'rank': 45,\n",
       "  'global_rank': 49},\n",
       " {'link': 'https://www.omdena.com/blog/machine-learning-classification-algorithms',\n",
       "  'display_link': 'https://www.omdena.com › blog › machine-learning-clas...',\n",
       "  'title': 'Classification Algorithms in Machine Learning',\n",
       "  'description': \"We'll explore some of the most popular and effective classification algorithms, including Logistic Regression and Naive Bayes, and discuss their strengths and ...\",\n",
       "  'extensions': [{'inline': True,\n",
       "    'type': 'text',\n",
       "    'text': 'Mar 9, 2022',\n",
       "    'rank': 1}],\n",
       "  'rank': 46,\n",
       "  'global_rank': 50},\n",
       " {'link': 'https://www.mygreatlearning.com/blog/classification-algorithm-in-machine-learning/',\n",
       "  'display_link': 'https://www.mygreatlearning.com › blog › classificatio...',\n",
       "  'title': 'Classification Algorithm in Machine Learning',\n",
       "  'description': 'Classification Algorithm in Machine Learning · Machine learning and Artificial Intelligence implement classification as their fundamental ...',\n",
       "  'extensions': [{'inline': True,\n",
       "    'type': 'text',\n",
       "    'text': 'May 3, 2025',\n",
       "    'rank': 1}],\n",
       "  'rank': 47,\n",
       "  'global_rank': 51},\n",
       " {'link': 'https://docs.aws.amazon.com/machine-learning/latest/dg/types-of-ml-models.html',\n",
       "  'display_link': 'https://docs.aws.amazon.com › ... › Types of ML Models',\n",
       "  'title': 'Types of ML Models - Amazon Machine Learning',\n",
       "  'description': 'Amazon ML supports three types of ML models: binary classification, multiclass classification, and regression. The type of model you should choose depends on ...',\n",
       "  'rank': 48,\n",
       "  'global_rank': 52}]"
      ]
     },
     "execution_count": 16,
     "metadata": {},
     "output_type": "execute_result"
    }
   ],
   "source": [
    "results"
   ]
  },
  {
   "cell_type": "code",
   "execution_count": 17,
   "metadata": {},
   "outputs": [
    {
     "name": "stderr",
     "output_type": "stream",
     "text": [
      "<All keys matched successfully>\n",
      "c:\\Users\\USER\\anaconda3\\envs\\py310\\lib\\site-packages\\urllib3\\connectionpool.py:1097: InsecureRequestWarning: Unverified HTTPS request is being made to host 'brd.superproxy.io'. Adding certificate verification is strongly advised. See: https://urllib3.readthedocs.io/en/latest/advanced-usage.html#tls-warnings\n",
      "  warnings.warn(\n"
     ]
    },
    {
     "name": "stdout",
     "output_type": "stream",
     "text": [
      "Found 48 search results. Generating embeddings...\n"
     ]
    },
    {
     "name": "stderr",
     "output_type": "stream",
     "text": [
      "Embedding data in batches: 2it [00:05,  2.55s/it]                       \n"
     ]
    },
    {
     "name": "stdout",
     "output_type": "stream",
     "text": [
      "Storing results in database...\n"
     ]
    },
    {
     "name": "stderr",
     "output_type": "stream",
     "text": [
      "Ingesting in batches: 1it [00:00, 12.85it/s]"
     ]
    },
    {
     "name": "stdout",
     "output_type": "stream",
     "text": [
      "Successfully stored 48 search results in collection 'web_search_collection'\n"
     ]
    },
    {
     "name": "stderr",
     "output_type": "stream",
     "text": [
      "\n"
     ]
    },
    {
     "data": {
      "text/plain": [
       "48"
      ]
     },
     "execution_count": 17,
     "metadata": {},
     "output_type": "execute_result"
    }
   ],
   "source": [
    "from web_search_to_db import WebSearchIngestor\n",
    "\n",
    "# Initialize the ingestor\n",
    "ingestor = WebSearchIngestor()\n",
    "\n",
    "# Search and store results\n",
    "query = \"machine learning best practices\"\n",
    "ingestor.search_and_store(query)"
   ]
  },
  {
   "cell_type": "code",
   "execution_count": 18,
   "metadata": {},
   "outputs": [
    {
     "name": "stderr",
     "output_type": "stream",
     "text": [
      "<All keys matched successfully>\n"
     ]
    },
    {
     "name": "stdout",
     "output_type": "stream",
     "text": [
      "\n",
      "Searching ML FAQ collection...\n",
      "\n",
      "ML FAQ Results:\n",
      "Question 15: What are signs of overfitting? Answer 15: High accuracy on training data but poor generalization to test or validation data.\n",
      "\n",
      "---\n",
      "\n",
      "Question 9: How do I avoid overfitting? Answer 9: Use techniques like cross-validation, regularization, pruning (for trees), and dropout (for neural nets).\n",
      "\n",
      "---\n",
      "\n",
      "Question 8: Is it good to use all features available? Answer 8: Not always. Irrelevant or redundant features can reduce performance and increase overfitting.\n",
      "\n",
      "Searching web results collection...\n",
      "\n",
      "Web Search Results:\n",
      "Title: Optimizing Efficiency: Best Practices for Designing a Machine ...\n",
      "URL: \n",
      "Snippet: \n",
      "\n",
      "---\n",
      "\n",
      "Title: How to Clean Data for Machine Learning Best Practices ...\n",
      "URL: \n",
      "Snippet: \n",
      "\n",
      "---\n",
      "\n",
      "Title: Guidelines for developing high-quality, predictive ML ...\n",
      "URL: \n",
      "Snippet: \n",
      "Question 15: What are signs of overfitting? Answer 15: High accuracy on training data but poor generalization to test or validation data.\n",
      "\n",
      "---\n",
      "\n",
      "Question 9: How do I avoid overfitting? Answer 9: Use techniques like cross-validation, regularization, pruning (for trees), and dropout (for neural nets).\n",
      "\n",
      "---\n",
      "\n",
      "Question 8: Is it good to use all features available? Answer 8: Not always. Irrelevant or redundant features can reduce performance and increase overfitting.\n",
      "Title: Optimizing Efficiency: Best Practices for Designing a Machine ...\n",
      "URL: \n",
      "Snippet: \n",
      "\n",
      "---\n",
      "\n",
      "Title: How to Clean Data for Machine Learning Best Practices ...\n",
      "URL: \n",
      "Snippet: \n",
      "\n",
      "---\n",
      "\n",
      "Title: Guidelines for developing high-quality, predictive ML ...\n",
      "URL: \n",
      "Snippet: \n"
     ]
    },
    {
     "ename": "",
     "evalue": "",
     "output_type": "error",
     "traceback": [
      "\u001b[1;31mThe Kernel crashed while executing code in the current cell or a previous cell. \n",
      "\u001b[1;31mPlease review the code in the cell(s) to identify a possible cause of the failure. \n",
      "\u001b[1;31mClick <a href='https://aka.ms/vscodeJupyterKernelCrash'>here</a> for more info. \n",
      "\u001b[1;31mView Jupyter <a href='command:jupyter.viewOutput'>log</a> for further details."
     ]
    }
   ],
   "source": [
    "from combined_search import CombinedSearcher\n",
    "\n",
    "# Initialize the searcher\n",
    "searcher = CombinedSearcher()\n",
    "\n",
    "# Search both collections\n",
    "results = searcher.search(\"What is overfitting?\")\n",
    "\n",
    "# Access results\n",
    "print(results[\"faq_results\"])  # Results from ML FAQ\n",
    "print(results[\"web_results\"])  # Results from web search"
   ]
  }
 ],
 "metadata": {
  "kernelspec": {
   "display_name": "py310",
   "language": "python",
   "name": "python3"
  },
  "language_info": {
   "codemirror_mode": {
    "name": "ipython",
    "version": 3
   },
   "file_extension": ".py",
   "mimetype": "text/x-python",
   "name": "python",
   "nbconvert_exporter": "python",
   "pygments_lexer": "ipython3",
   "version": "3.10.16"
  }
 },
 "nbformat": 4,
 "nbformat_minor": 2
}
